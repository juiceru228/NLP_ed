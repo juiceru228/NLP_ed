{
 "cells": [
  {
   "cell_type": "code",
   "execution_count": 10,
   "id": "990d78bf-a7d6-49a9-8cef-78d5d7773cdb",
   "metadata": {},
   "outputs": [
    {
     "name": "stderr",
     "output_type": "stream",
     "text": [
      "[nltk_data] Downloading package wordnet to /home/ayanami/nltk_data...\n",
      "[nltk_data]   Package wordnet is already up-to-date!\n",
      "[nltk_data] Downloading package punkt to /home/ayanami/nltk_data...\n",
      "[nltk_data]   Package punkt is already up-to-date!\n"
     ]
    },
    {
     "data": {
      "text/plain": [
       "True"
      ]
     },
     "execution_count": 10,
     "metadata": {},
     "output_type": "execute_result"
    }
   ],
   "source": [
    "import nltk\n",
    "from nltk.stem import PorterStemmer as ps\n",
    "from nltk.stem import WordNetLemmatizer as wnl\n",
    "from nltk.tokenize import word_tokenize as wt\n",
    "nltk.download('wordnet')\n",
    "nltk.download(\"punkt\")"
   ]
  },
  {
   "cell_type": "code",
   "execution_count": 11,
   "id": "704e0c7e-2bc9-4b5d-8b04-3b2e7952f20b",
   "metadata": {},
   "outputs": [],
   "source": [
    "def tokenize(text: str) -> list[str]:\n",
    "    return list(text)"
   ]
  },
  {
   "cell_type": "code",
   "execution_count": 12,
   "id": "8c5eb34f-1521-4c80-aea3-a9c65e353a72",
   "metadata": {},
   "outputs": [],
   "source": [
    "def vectorize(text: str) -> dict[int]:\n",
    "    vector = {i + 1: word for i, word in enumerate(text)}\n",
    "    return vector"
   ]
  },
  {
   "cell_type": "code",
   "execution_count": 13,
   "id": "86fb0836-7d36-4863-ba95-304ce685e596",
   "metadata": {},
   "outputs": [],
   "source": [
    "def lemmatize_and_stemming(text: str) -> list[str]:\n",
    "    tokens = wt(text)\n",
    "    lem_text = [wnl().lemmatize(token, pos='v') for token in tokens]\n",
    "    stem_text = [ps().stem(token) for token in lem_text]\n",
    "    return stem_text"
   ]
  },
  {
   "cell_type": "code",
   "execution_count": 18,
   "id": "baede161-5351-4023-95f3-99c6161505b7",
   "metadata": {},
   "outputs": [
    {
     "name": "stdout",
     "output_type": "stream",
     "text": [
      "Токенизация преобразованного текста:\n",
      " ['event', 'befor', 'the', 'start', 'of', 'hamlet', 'set', 'the', 'stage', 'for', 'tragedi', '.', 'when', 'the', 'king', 'of', 'denmark', ',', 'princ', 'hamlet', '’', 's', 'father', ',', 'suddenli', 'die', ',', 'hamlet', '’', 's', 'mother', ',', 'gertrud', ',', 'marri', 'hi', 'uncl', 'claudiu', ',', 'who', 'becom', 'the', 'new', 'king.a', 'spirit', 'who', 'claim', 'to', 'be', 'the', 'ghost', 'of', 'hamlet', '’', 's', 'father', 'describ', 'hi', 'murder', 'at', 'the', 'hand', 'of', 'claudiu', 'and', 'demand', 'that', 'hamlet', 'aveng', 'the', 'kill', '.', 'when', 'the', 'councilor', 'poloniu', 'learn', 'from', 'hi', 'daughter', ',', 'ophelia', ',', 'that', 'hamlet', 'have', 'visit', 'her', 'in', 'an', 'appar', 'distract', 'state', ',', 'poloniu', 'attribut', 'the', 'princ', '’', 's', 'condit', 'to', 'lovesick', ',', 'and', 'he', 'set', 'a', 'trap', 'for', 'hamlet', 'use', 'ophelia', 'as', 'bait.to', 'confirm', 'claudiu', '’', 's', 'guilt', ',', 'hamlet', 'arrang', 'for', 'a', 'play', 'that', 'mimic', 'the', 'murder', ';', 'claudiu', '’', 's', 'reaction', 'be', 'that', 'of', 'a', 'guilti', 'man', '.', 'hamlet', ',', 'now', 'free', 'to', 'act', ',', 'mistakenli', 'kill', 'poloniu', ',', 'think', 'he', 'be', 'claudiu', '.', 'claudiu', 'send', 'hamlet', 'away', 'as', 'part', 'of', 'a', 'deadli', 'plot.aft', 'poloniu', '’', 's', 'death', ',', 'ophelia', 'go', 'mad', 'and', 'later', 'drown', '.', 'hamlet', ',', 'who', 'have', 'return', 'safe', 'to', 'confront', 'the', 'king', ',', 'agre', 'to', 'a', 'fenc', 'match', 'with', 'ophelia', '’', 's', 'brother', ',', 'laert', ',', 'who', 'secretli', 'poison', 'hi', 'own', 'rapier', '.', 'at', 'the', 'match', ',', 'claudiu', 'prepar', 'poison', 'wine', 'for', 'hamlet', ',', 'which', 'gertrud', 'unknowingli', 'drink', ';', 'as', 'she', 'die', ',', 'she', 'accus', 'claudiu', ',', 'whom', 'hamlet', 'kill', '.', 'then', 'first', 'laert', 'and', 'then', 'hamlet', 'die', ',', 'both', 'victim', 'of', 'laert', '’', 'rapier', '.']\n",
      "Векторизация преобразованного текста:\n",
      " {1: 'event', 2: 'befor', 3: 'the', 4: 'start', 5: 'of', 6: 'hamlet', 7: 'set', 8: 'the', 9: 'stage', 10: 'for', 11: 'tragedi', 12: '.', 13: 'when', 14: 'the', 15: 'king', 16: 'of', 17: 'denmark', 18: ',', 19: 'princ', 20: 'hamlet', 21: '’', 22: 's', 23: 'father', 24: ',', 25: 'suddenli', 26: 'die', 27: ',', 28: 'hamlet', 29: '’', 30: 's', 31: 'mother', 32: ',', 33: 'gertrud', 34: ',', 35: 'marri', 36: 'hi', 37: 'uncl', 38: 'claudiu', 39: ',', 40: 'who', 41: 'becom', 42: 'the', 43: 'new', 44: 'king.a', 45: 'spirit', 46: 'who', 47: 'claim', 48: 'to', 49: 'be', 50: 'the', 51: 'ghost', 52: 'of', 53: 'hamlet', 54: '’', 55: 's', 56: 'father', 57: 'describ', 58: 'hi', 59: 'murder', 60: 'at', 61: 'the', 62: 'hand', 63: 'of', 64: 'claudiu', 65: 'and', 66: 'demand', 67: 'that', 68: 'hamlet', 69: 'aveng', 70: 'the', 71: 'kill', 72: '.', 73: 'when', 74: 'the', 75: 'councilor', 76: 'poloniu', 77: 'learn', 78: 'from', 79: 'hi', 80: 'daughter', 81: ',', 82: 'ophelia', 83: ',', 84: 'that', 85: 'hamlet', 86: 'have', 87: 'visit', 88: 'her', 89: 'in', 90: 'an', 91: 'appar', 92: 'distract', 93: 'state', 94: ',', 95: 'poloniu', 96: 'attribut', 97: 'the', 98: 'princ', 99: '’', 100: 's', 101: 'condit', 102: 'to', 103: 'lovesick', 104: ',', 105: 'and', 106: 'he', 107: 'set', 108: 'a', 109: 'trap', 110: 'for', 111: 'hamlet', 112: 'use', 113: 'ophelia', 114: 'as', 115: 'bait.to', 116: 'confirm', 117: 'claudiu', 118: '’', 119: 's', 120: 'guilt', 121: ',', 122: 'hamlet', 123: 'arrang', 124: 'for', 125: 'a', 126: 'play', 127: 'that', 128: 'mimic', 129: 'the', 130: 'murder', 131: ';', 132: 'claudiu', 133: '’', 134: 's', 135: 'reaction', 136: 'be', 137: 'that', 138: 'of', 139: 'a', 140: 'guilti', 141: 'man', 142: '.', 143: 'hamlet', 144: ',', 145: 'now', 146: 'free', 147: 'to', 148: 'act', 149: ',', 150: 'mistakenli', 151: 'kill', 152: 'poloniu', 153: ',', 154: 'think', 155: 'he', 156: 'be', 157: 'claudiu', 158: '.', 159: 'claudiu', 160: 'send', 161: 'hamlet', 162: 'away', 163: 'as', 164: 'part', 165: 'of', 166: 'a', 167: 'deadli', 168: 'plot.aft', 169: 'poloniu', 170: '’', 171: 's', 172: 'death', 173: ',', 174: 'ophelia', 175: 'go', 176: 'mad', 177: 'and', 178: 'later', 179: 'drown', 180: '.', 181: 'hamlet', 182: ',', 183: 'who', 184: 'have', 185: 'return', 186: 'safe', 187: 'to', 188: 'confront', 189: 'the', 190: 'king', 191: ',', 192: 'agre', 193: 'to', 194: 'a', 195: 'fenc', 196: 'match', 197: 'with', 198: 'ophelia', 199: '’', 200: 's', 201: 'brother', 202: ',', 203: 'laert', 204: ',', 205: 'who', 206: 'secretli', 207: 'poison', 208: 'hi', 209: 'own', 210: 'rapier', 211: '.', 212: 'at', 213: 'the', 214: 'match', 215: ',', 216: 'claudiu', 217: 'prepar', 218: 'poison', 219: 'wine', 220: 'for', 221: 'hamlet', 222: ',', 223: 'which', 224: 'gertrud', 225: 'unknowingli', 226: 'drink', 227: ';', 228: 'as', 229: 'she', 230: 'die', 231: ',', 232: 'she', 233: 'accus', 234: 'claudiu', 235: ',', 236: 'whom', 237: 'hamlet', 238: 'kill', 239: '.', 240: 'then', 241: 'first', 242: 'laert', 243: 'and', 244: 'then', 245: 'hamlet', 246: 'die', 247: ',', 248: 'both', 249: 'victim', 250: 'of', 251: 'laert', 252: '’', 253: 'rapier', 254: '.'}\n"
     ]
    }
   ],
   "source": [
    "with open(\"res/text.txt\", 'r') as file:\n",
    "    text = file.read().replace('\\n', '')\n",
    "result = lemmatize_and_stemming(text)\n",
    "\n",
    "tokenized_text = tokenize(result)\n",
    "print(f\"Токенизация преобразованного текста:\\n {tokenized_text}\\n\")\n",
    "\n",
    "vectorize_text = vectorize(result)\n",
    "print(f\"Векторизация преобразованного текста:\\n {vectorize_text}\\n\")"
   ]
  },
  {
   "cell_type": "code",
   "execution_count": null,
   "id": "d38088ac-ab50-413c-8643-0c64f0f6055b",
   "metadata": {},
   "outputs": [],
   "source": []
  },
  {
   "cell_type": "code",
   "execution_count": null,
   "id": "dea88801-af15-415e-a265-d794941f9ebf",
   "metadata": {},
   "outputs": [],
   "source": []
  }
 ],
 "metadata": {
  "kernelspec": {
   "display_name": "Python 3 (ipykernel)",
   "language": "python",
   "name": "python3"
  },
  "language_info": {
   "codemirror_mode": {
    "name": "ipython",
    "version": 3
   },
   "file_extension": ".py",
   "mimetype": "text/x-python",
   "name": "python",
   "nbconvert_exporter": "python",
   "pygments_lexer": "ipython3",
   "version": "3.13.2"
  }
 },
 "nbformat": 4,
 "nbformat_minor": 5
}
