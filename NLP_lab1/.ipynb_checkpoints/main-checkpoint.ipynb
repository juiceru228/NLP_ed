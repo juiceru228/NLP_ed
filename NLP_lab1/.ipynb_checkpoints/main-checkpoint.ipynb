{
 "cells": [
  {
   "cell_type": "code",
   "execution_count": 1,
   "id": "990d78bf-a7d6-49a9-8cef-78d5d7773cdb",
   "metadata": {},
   "outputs": [
    {
     "name": "stderr",
     "output_type": "stream",
     "text": [
      "[nltk_data] Downloading package stopwords to\n",
      "[nltk_data]     /home/ayanami/nltk_data...\n",
      "[nltk_data]   Package stopwords is already up-to-date!\n",
      "[nltk_data] Downloading package wordnet to /home/ayanami/nltk_data...\n",
      "[nltk_data]   Package wordnet is already up-to-date!\n",
      "[nltk_data] Downloading package punkt to /home/ayanami/nltk_data...\n",
      "[nltk_data]   Package punkt is already up-to-date!\n"
     ]
    },
    {
     "data": {
      "text/plain": [
       "True"
      ]
     },
     "execution_count": 1,
     "metadata": {},
     "output_type": "execute_result"
    }
   ],
   "source": [
    "import nltk\n",
    "from nltk.stem import PorterStemmer as ps\n",
    "from nltk.stem import WordNetLemmatizer as wnl\n",
    "from nltk.tokenize import word_tokenize as wt\n",
    "from nltk.corpus import stopwords\n",
    "nltk.download('stopwords')\n",
    "nltk.download('wordnet')\n",
    "nltk.download(\"punkt\")"
   ]
  },
  {
   "cell_type": "code",
   "execution_count": 2,
   "id": "704e0c7e-2bc9-4b5d-8b04-3b2e7952f20b",
   "metadata": {},
   "outputs": [],
   "source": [
    "def tokenize(text: str) -> list[str]:\n",
    "    return list(text)"
   ]
  },
  {
   "cell_type": "code",
   "execution_count": 3,
   "id": "8c5eb34f-1521-4c80-aea3-a9c65e353a72",
   "metadata": {},
   "outputs": [],
   "source": [
    "def vectorize(text: str) -> dict[int]:\n",
    "    vector = {i + 1: word for i, word in enumerate(text)}\n",
    "    return vector"
   ]
  },
  {
   "cell_type": "code",
   "execution_count": 4,
   "id": "86fb0836-7d36-4863-ba95-304ce685e596",
   "metadata": {},
   "outputs": [],
   "source": [
    "def lemmatize_and_stemming(text: str) -> list[str]:\n",
    "    tokens = wt(text)\n",
    "    stop_words = set(stopwords.words('english'))\n",
    "    filtered_tokens = [word for word in tokens if word.lower() not in stop_words]\n",
    "    lem_text = [wnl().lemmatize(token, pos='v') for token in filtered_tokens]\n",
    "    print(f\"Лематизация текста:\\n {lem_text}\\n\")\n",
    "    stem_text = [ps().stem(token) for token in lem_text]\n",
    "    print(f\"Стемминг текста:\\n {stem_text}\\n\")\n",
    "    result = ''.join(stem_text)\n",
    "    return result"
   ]
  },
  {
   "cell_type": "code",
   "execution_count": 5,
   "id": "baede161-5351-4023-95f3-99c6161505b7",
   "metadata": {},
   "outputs": [
    {
     "name": "stdout",
     "output_type": "stream",
     "text": [
      "Токенизация преобразованного текста:\n",
      " ['Natural', 'Language', 'ToolkitNLTK', 'lead', 'platform', 'build', 'Python', 'program', 'work', 'human', 'language', 'data', '.', 'provide', 'easy-to-use', 'interfaces', '50', 'corpora', 'lexical', 'resources', 'WordNet', ',', 'along', 'suite', 'text', 'process', 'libraries', 'classification', ',', 'tokenization', ',', 'stem', ',', 'tag', ',', 'parse', ',', 'semantic', 'reason', ',', 'wrappers', 'industrial-strength', 'NLP', 'libraries', ',', 'active', 'discussion', 'forum.Thanks', 'hands-on', 'guide', 'introduce', 'program', 'fundamentals', 'alongside', 'topics', 'computational', 'linguistics', ',', 'plus', 'comprehensive', 'API', 'documentation', ',', 'NLTK', 'suitable', 'linguists', ',', 'engineer', ',', 'students', ',', 'educators', ',', 'researchers', ',', 'industry', 'users', 'alike', '.', 'NLTK', 'available', 'Windows', ',', 'Mac', 'OS', 'X', ',', 'Linux', '.', 'Best', ',', 'NLTK', 'free', ',', 'open', 'source', ',', 'community-driven', 'project.NLTK', 'call', '“', 'wonderful', 'tool', 'teach', ',', 'work', ',', 'computational', 'linguistics', 'use', 'Python', ',', '”', '“', 'amaze', 'library', 'play', 'natural', 'language.', '”', 'Natural', 'Language', 'Processing', 'Python', 'provide', 'practical', 'introduction', 'program', 'language', 'process', '.', 'Written', 'creators', 'NLTK', ',', 'guide', 'reader', 'fundamentals', 'write', 'Python', 'program', ',', 'work', 'corpora', ',', 'categorize', 'text', ',', 'analyze', 'linguistic', 'structure', ',', '.', 'online', 'version', 'book', 'update', 'Python', '3', 'NLTK', '3', '.', '(', 'original', 'Python', '2', 'version', 'still', 'available', 'https', ':', '//www.nltk.org/book_1ed', '.', ')']\n",
      "\n",
      "Токенизация преобразованного текста:\n",
      " ['natur', 'languag', 'toolkitnltk', 'lead', 'platform', 'build', 'python', 'program', 'work', 'human', 'languag', 'data', '.', 'provid', 'easy-to-us', 'interfac', '50', 'corpora', 'lexic', 'resourc', 'wordnet', ',', 'along', 'suit', 'text', 'process', 'librari', 'classif', ',', 'token', ',', 'stem', ',', 'tag', ',', 'pars', ',', 'semant', 'reason', ',', 'wrapper', 'industrial-strength', 'nlp', 'librari', ',', 'activ', 'discuss', 'forum.thank', 'hands-on', 'guid', 'introduc', 'program', 'fundament', 'alongsid', 'topic', 'comput', 'linguist', ',', 'plu', 'comprehens', 'api', 'document', ',', 'nltk', 'suitabl', 'linguist', ',', 'engin', ',', 'student', ',', 'educ', ',', 'research', ',', 'industri', 'user', 'alik', '.', 'nltk', 'avail', 'window', ',', 'mac', 'os', 'x', ',', 'linux', '.', 'best', ',', 'nltk', 'free', ',', 'open', 'sourc', ',', 'community-driven', 'project.nltk', 'call', '“', 'wonder', 'tool', 'teach', ',', 'work', ',', 'comput', 'linguist', 'use', 'python', ',', '”', '“', 'amaz', 'librari', 'play', 'natur', 'language.', '”', 'natur', 'languag', 'process', 'python', 'provid', 'practic', 'introduct', 'program', 'languag', 'process', '.', 'written', 'creator', 'nltk', ',', 'guid', 'reader', 'fundament', 'write', 'python', 'program', ',', 'work', 'corpora', ',', 'categor', 'text', ',', 'analyz', 'linguist', 'structur', ',', '.', 'onlin', 'version', 'book', 'updat', 'python', '3', 'nltk', '3', '.', '(', 'origin', 'python', '2', 'version', 'still', 'avail', 'http', ':', '//www.nltk.org/book_1', '.', ')']\n",
      "\n",
      "Токенизация преобразованного текста:\n",
      " ['n', 'a', 't', 'u', 'r', 'l', 'a', 'n', 'g', 'u', 'a', 'g', 't', 'o', 'o', 'l', 'k', 'i', 't', 'n', 'l', 't', 'k', 'l', 'e', 'a', 'd', 'p', 'l', 'a', 't', 'f', 'o', 'r', 'm', 'b', 'u', 'i', 'l', 'd', 'p', 'y', 't', 'h', 'o', 'n', 'p', 'r', 'o', 'g', 'r', 'a', 'm', 'w', 'o', 'r', 'k', 'h', 'u', 'm', 'a', 'n', 'l', 'a', 'n', 'g', 'u', 'a', 'g', 'd', 'a', 't', 'a', '.', 'p', 'r', 'o', 'v', 'i', 'd', 'e', 'a', 's', 'y', '-', 't', 'o', '-', 'u', 's', 'i', 'n', 't', 'e', 'r', 'f', 'a', 'c', '5', '0', 'c', 'o', 'r', 'p', 'o', 'r', 'a', 'l', 'e', 'x', 'i', 'c', 'r', 'e', 's', 'o', 'u', 'r', 'c', 'w', 'o', 'r', 'd', 'n', 'e', 't', ',', 'a', 'l', 'o', 'n', 'g', 's', 'u', 'i', 't', 't', 'e', 'x', 't', 'p', 'r', 'o', 'c', 'e', 's', 's', 'l', 'i', 'b', 'r', 'a', 'r', 'i', 'c', 'l', 'a', 's', 's', 'i', 'f', ',', 't', 'o', 'k', 'e', 'n', ',', 's', 't', 'e', 'm', ',', 't', 'a', 'g', ',', 'p', 'a', 'r', 's', ',', 's', 'e', 'm', 'a', 'n', 't', 'r', 'e', 'a', 's', 'o', 'n', ',', 'w', 'r', 'a', 'p', 'p', 'e', 'r', 'i', 'n', 'd', 'u', 's', 't', 'r', 'i', 'a', 'l', '-', 's', 't', 'r', 'e', 'n', 'g', 't', 'h', 'n', 'l', 'p', 'l', 'i', 'b', 'r', 'a', 'r', 'i', ',', 'a', 'c', 't', 'i', 'v', 'd', 'i', 's', 'c', 'u', 's', 's', 'f', 'o', 'r', 'u', 'm', '.', 't', 'h', 'a', 'n', 'k', 'h', 'a', 'n', 'd', 's', '-', 'o', 'n', 'g', 'u', 'i', 'd', 'i', 'n', 't', 'r', 'o', 'd', 'u', 'c', 'p', 'r', 'o', 'g', 'r', 'a', 'm', 'f', 'u', 'n', 'd', 'a', 'm', 'e', 'n', 't', 'a', 'l', 'o', 'n', 'g', 's', 'i', 'd', 't', 'o', 'p', 'i', 'c', 'c', 'o', 'm', 'p', 'u', 't', 'l', 'i', 'n', 'g', 'u', 'i', 's', 't', ',', 'p', 'l', 'u', 'c', 'o', 'm', 'p', 'r', 'e', 'h', 'e', 'n', 's', 'a', 'p', 'i', 'd', 'o', 'c', 'u', 'm', 'e', 'n', 't', ',', 'n', 'l', 't', 'k', 's', 'u', 'i', 't', 'a', 'b', 'l', 'l', 'i', 'n', 'g', 'u', 'i', 's', 't', ',', 'e', 'n', 'g', 'i', 'n', ',', 's', 't', 'u', 'd', 'e', 'n', 't', ',', 'e', 'd', 'u', 'c', ',', 'r', 'e', 's', 'e', 'a', 'r', 'c', 'h', ',', 'i', 'n', 'd', 'u', 's', 't', 'r', 'i', 'u', 's', 'e', 'r', 'a', 'l', 'i', 'k', '.', 'n', 'l', 't', 'k', 'a', 'v', 'a', 'i', 'l', 'w', 'i', 'n', 'd', 'o', 'w', ',', 'm', 'a', 'c', 'o', 's', 'x', ',', 'l', 'i', 'n', 'u', 'x', '.', 'b', 'e', 's', 't', ',', 'n', 'l', 't', 'k', 'f', 'r', 'e', 'e', ',', 'o', 'p', 'e', 'n', 's', 'o', 'u', 'r', 'c', ',', 'c', 'o', 'm', 'm', 'u', 'n', 'i', 't', 'y', '-', 'd', 'r', 'i', 'v', 'e', 'n', 'p', 'r', 'o', 'j', 'e', 'c', 't', '.', 'n', 'l', 't', 'k', 'c', 'a', 'l', 'l', '“', 'w', 'o', 'n', 'd', 'e', 'r', 't', 'o', 'o', 'l', 't', 'e', 'a', 'c', 'h', ',', 'w', 'o', 'r', 'k', ',', 'c', 'o', 'm', 'p', 'u', 't', 'l', 'i', 'n', 'g', 'u', 'i', 's', 't', 'u', 's', 'e', 'p', 'y', 't', 'h', 'o', 'n', ',', '”', '“', 'a', 'm', 'a', 'z', 'l', 'i', 'b', 'r', 'a', 'r', 'i', 'p', 'l', 'a', 'y', 'n', 'a', 't', 'u', 'r', 'l', 'a', 'n', 'g', 'u', 'a', 'g', 'e', '.', '”', 'n', 'a', 't', 'u', 'r', 'l', 'a', 'n', 'g', 'u', 'a', 'g', 'p', 'r', 'o', 'c', 'e', 's', 's', 'p', 'y', 't', 'h', 'o', 'n', 'p', 'r', 'o', 'v', 'i', 'd', 'p', 'r', 'a', 'c', 't', 'i', 'c', 'i', 'n', 't', 'r', 'o', 'd', 'u', 'c', 't', 'p', 'r', 'o', 'g', 'r', 'a', 'm', 'l', 'a', 'n', 'g', 'u', 'a', 'g', 'p', 'r', 'o', 'c', 'e', 's', 's', '.', 'w', 'r', 'i', 't', 't', 'e', 'n', 'c', 'r', 'e', 'a', 't', 'o', 'r', 'n', 'l', 't', 'k', ',', 'g', 'u', 'i', 'd', 'r', 'e', 'a', 'd', 'e', 'r', 'f', 'u', 'n', 'd', 'a', 'm', 'e', 'n', 't', 'w', 'r', 'i', 't', 'e', 'p', 'y', 't', 'h', 'o', 'n', 'p', 'r', 'o', 'g', 'r', 'a', 'm', ',', 'w', 'o', 'r', 'k', 'c', 'o', 'r', 'p', 'o', 'r', 'a', ',', 'c', 'a', 't', 'e', 'g', 'o', 'r', 't', 'e', 'x', 't', ',', 'a', 'n', 'a', 'l', 'y', 'z', 'l', 'i', 'n', 'g', 'u', 'i', 's', 't', 's', 't', 'r', 'u', 'c', 't', 'u', 'r', ',', '.', 'o', 'n', 'l', 'i', 'n', 'v', 'e', 'r', 's', 'i', 'o', 'n', 'b', 'o', 'o', 'k', 'u', 'p', 'd', 'a', 't', 'p', 'y', 't', 'h', 'o', 'n', '3', 'n', 'l', 't', 'k', '3', '.', '(', 'o', 'r', 'i', 'g', 'i', 'n', 'p', 'y', 't', 'h', 'o', 'n', '2', 'v', 'e', 'r', 's', 'i', 'o', 'n', 's', 't', 'i', 'l', 'l', 'a', 'v', 'a', 'i', 'l', 'h', 't', 't', 'p', ':', '/', '/', 'w', 'w', 'w', '.', 'n', 'l', 't', 'k', '.', 'o', 'r', 'g', '/', 'b', 'o', 'o', 'k', '_', '1', '.', ')']\n",
      "\n",
      "Векторизация преобразованного текста:\n",
      " {1: 'n', 2: 'a', 3: 't', 4: 'u', 5: 'r', 6: 'l', 7: 'a', 8: 'n', 9: 'g', 10: 'u', 11: 'a', 12: 'g', 13: 't', 14: 'o', 15: 'o', 16: 'l', 17: 'k', 18: 'i', 19: 't', 20: 'n', 21: 'l', 22: 't', 23: 'k', 24: 'l', 25: 'e', 26: 'a', 27: 'd', 28: 'p', 29: 'l', 30: 'a', 31: 't', 32: 'f', 33: 'o', 34: 'r', 35: 'm', 36: 'b', 37: 'u', 38: 'i', 39: 'l', 40: 'd', 41: 'p', 42: 'y', 43: 't', 44: 'h', 45: 'o', 46: 'n', 47: 'p', 48: 'r', 49: 'o', 50: 'g', 51: 'r', 52: 'a', 53: 'm', 54: 'w', 55: 'o', 56: 'r', 57: 'k', 58: 'h', 59: 'u', 60: 'm', 61: 'a', 62: 'n', 63: 'l', 64: 'a', 65: 'n', 66: 'g', 67: 'u', 68: 'a', 69: 'g', 70: 'd', 71: 'a', 72: 't', 73: 'a', 74: '.', 75: 'p', 76: 'r', 77: 'o', 78: 'v', 79: 'i', 80: 'd', 81: 'e', 82: 'a', 83: 's', 84: 'y', 85: '-', 86: 't', 87: 'o', 88: '-', 89: 'u', 90: 's', 91: 'i', 92: 'n', 93: 't', 94: 'e', 95: 'r', 96: 'f', 97: 'a', 98: 'c', 99: '5', 100: '0', 101: 'c', 102: 'o', 103: 'r', 104: 'p', 105: 'o', 106: 'r', 107: 'a', 108: 'l', 109: 'e', 110: 'x', 111: 'i', 112: 'c', 113: 'r', 114: 'e', 115: 's', 116: 'o', 117: 'u', 118: 'r', 119: 'c', 120: 'w', 121: 'o', 122: 'r', 123: 'd', 124: 'n', 125: 'e', 126: 't', 127: ',', 128: 'a', 129: 'l', 130: 'o', 131: 'n', 132: 'g', 133: 's', 134: 'u', 135: 'i', 136: 't', 137: 't', 138: 'e', 139: 'x', 140: 't', 141: 'p', 142: 'r', 143: 'o', 144: 'c', 145: 'e', 146: 's', 147: 's', 148: 'l', 149: 'i', 150: 'b', 151: 'r', 152: 'a', 153: 'r', 154: 'i', 155: 'c', 156: 'l', 157: 'a', 158: 's', 159: 's', 160: 'i', 161: 'f', 162: ',', 163: 't', 164: 'o', 165: 'k', 166: 'e', 167: 'n', 168: ',', 169: 's', 170: 't', 171: 'e', 172: 'm', 173: ',', 174: 't', 175: 'a', 176: 'g', 177: ',', 178: 'p', 179: 'a', 180: 'r', 181: 's', 182: ',', 183: 's', 184: 'e', 185: 'm', 186: 'a', 187: 'n', 188: 't', 189: 'r', 190: 'e', 191: 'a', 192: 's', 193: 'o', 194: 'n', 195: ',', 196: 'w', 197: 'r', 198: 'a', 199: 'p', 200: 'p', 201: 'e', 202: 'r', 203: 'i', 204: 'n', 205: 'd', 206: 'u', 207: 's', 208: 't', 209: 'r', 210: 'i', 211: 'a', 212: 'l', 213: '-', 214: 's', 215: 't', 216: 'r', 217: 'e', 218: 'n', 219: 'g', 220: 't', 221: 'h', 222: 'n', 223: 'l', 224: 'p', 225: 'l', 226: 'i', 227: 'b', 228: 'r', 229: 'a', 230: 'r', 231: 'i', 232: ',', 233: 'a', 234: 'c', 235: 't', 236: 'i', 237: 'v', 238: 'd', 239: 'i', 240: 's', 241: 'c', 242: 'u', 243: 's', 244: 's', 245: 'f', 246: 'o', 247: 'r', 248: 'u', 249: 'm', 250: '.', 251: 't', 252: 'h', 253: 'a', 254: 'n', 255: 'k', 256: 'h', 257: 'a', 258: 'n', 259: 'd', 260: 's', 261: '-', 262: 'o', 263: 'n', 264: 'g', 265: 'u', 266: 'i', 267: 'd', 268: 'i', 269: 'n', 270: 't', 271: 'r', 272: 'o', 273: 'd', 274: 'u', 275: 'c', 276: 'p', 277: 'r', 278: 'o', 279: 'g', 280: 'r', 281: 'a', 282: 'm', 283: 'f', 284: 'u', 285: 'n', 286: 'd', 287: 'a', 288: 'm', 289: 'e', 290: 'n', 291: 't', 292: 'a', 293: 'l', 294: 'o', 295: 'n', 296: 'g', 297: 's', 298: 'i', 299: 'd', 300: 't', 301: 'o', 302: 'p', 303: 'i', 304: 'c', 305: 'c', 306: 'o', 307: 'm', 308: 'p', 309: 'u', 310: 't', 311: 'l', 312: 'i', 313: 'n', 314: 'g', 315: 'u', 316: 'i', 317: 's', 318: 't', 319: ',', 320: 'p', 321: 'l', 322: 'u', 323: 'c', 324: 'o', 325: 'm', 326: 'p', 327: 'r', 328: 'e', 329: 'h', 330: 'e', 331: 'n', 332: 's', 333: 'a', 334: 'p', 335: 'i', 336: 'd', 337: 'o', 338: 'c', 339: 'u', 340: 'm', 341: 'e', 342: 'n', 343: 't', 344: ',', 345: 'n', 346: 'l', 347: 't', 348: 'k', 349: 's', 350: 'u', 351: 'i', 352: 't', 353: 'a', 354: 'b', 355: 'l', 356: 'l', 357: 'i', 358: 'n', 359: 'g', 360: 'u', 361: 'i', 362: 's', 363: 't', 364: ',', 365: 'e', 366: 'n', 367: 'g', 368: 'i', 369: 'n', 370: ',', 371: 's', 372: 't', 373: 'u', 374: 'd', 375: 'e', 376: 'n', 377: 't', 378: ',', 379: 'e', 380: 'd', 381: 'u', 382: 'c', 383: ',', 384: 'r', 385: 'e', 386: 's', 387: 'e', 388: 'a', 389: 'r', 390: 'c', 391: 'h', 392: ',', 393: 'i', 394: 'n', 395: 'd', 396: 'u', 397: 's', 398: 't', 399: 'r', 400: 'i', 401: 'u', 402: 's', 403: 'e', 404: 'r', 405: 'a', 406: 'l', 407: 'i', 408: 'k', 409: '.', 410: 'n', 411: 'l', 412: 't', 413: 'k', 414: 'a', 415: 'v', 416: 'a', 417: 'i', 418: 'l', 419: 'w', 420: 'i', 421: 'n', 422: 'd', 423: 'o', 424: 'w', 425: ',', 426: 'm', 427: 'a', 428: 'c', 429: 'o', 430: 's', 431: 'x', 432: ',', 433: 'l', 434: 'i', 435: 'n', 436: 'u', 437: 'x', 438: '.', 439: 'b', 440: 'e', 441: 's', 442: 't', 443: ',', 444: 'n', 445: 'l', 446: 't', 447: 'k', 448: 'f', 449: 'r', 450: 'e', 451: 'e', 452: ',', 453: 'o', 454: 'p', 455: 'e', 456: 'n', 457: 's', 458: 'o', 459: 'u', 460: 'r', 461: 'c', 462: ',', 463: 'c', 464: 'o', 465: 'm', 466: 'm', 467: 'u', 468: 'n', 469: 'i', 470: 't', 471: 'y', 472: '-', 473: 'd', 474: 'r', 475: 'i', 476: 'v', 477: 'e', 478: 'n', 479: 'p', 480: 'r', 481: 'o', 482: 'j', 483: 'e', 484: 'c', 485: 't', 486: '.', 487: 'n', 488: 'l', 489: 't', 490: 'k', 491: 'c', 492: 'a', 493: 'l', 494: 'l', 495: '“', 496: 'w', 497: 'o', 498: 'n', 499: 'd', 500: 'e', 501: 'r', 502: 't', 503: 'o', 504: 'o', 505: 'l', 506: 't', 507: 'e', 508: 'a', 509: 'c', 510: 'h', 511: ',', 512: 'w', 513: 'o', 514: 'r', 515: 'k', 516: ',', 517: 'c', 518: 'o', 519: 'm', 520: 'p', 521: 'u', 522: 't', 523: 'l', 524: 'i', 525: 'n', 526: 'g', 527: 'u', 528: 'i', 529: 's', 530: 't', 531: 'u', 532: 's', 533: 'e', 534: 'p', 535: 'y', 536: 't', 537: 'h', 538: 'o', 539: 'n', 540: ',', 541: '”', 542: '“', 543: 'a', 544: 'm', 545: 'a', 546: 'z', 547: 'l', 548: 'i', 549: 'b', 550: 'r', 551: 'a', 552: 'r', 553: 'i', 554: 'p', 555: 'l', 556: 'a', 557: 'y', 558: 'n', 559: 'a', 560: 't', 561: 'u', 562: 'r', 563: 'l', 564: 'a', 565: 'n', 566: 'g', 567: 'u', 568: 'a', 569: 'g', 570: 'e', 571: '.', 572: '”', 573: 'n', 574: 'a', 575: 't', 576: 'u', 577: 'r', 578: 'l', 579: 'a', 580: 'n', 581: 'g', 582: 'u', 583: 'a', 584: 'g', 585: 'p', 586: 'r', 587: 'o', 588: 'c', 589: 'e', 590: 's', 591: 's', 592: 'p', 593: 'y', 594: 't', 595: 'h', 596: 'o', 597: 'n', 598: 'p', 599: 'r', 600: 'o', 601: 'v', 602: 'i', 603: 'd', 604: 'p', 605: 'r', 606: 'a', 607: 'c', 608: 't', 609: 'i', 610: 'c', 611: 'i', 612: 'n', 613: 't', 614: 'r', 615: 'o', 616: 'd', 617: 'u', 618: 'c', 619: 't', 620: 'p', 621: 'r', 622: 'o', 623: 'g', 624: 'r', 625: 'a', 626: 'm', 627: 'l', 628: 'a', 629: 'n', 630: 'g', 631: 'u', 632: 'a', 633: 'g', 634: 'p', 635: 'r', 636: 'o', 637: 'c', 638: 'e', 639: 's', 640: 's', 641: '.', 642: 'w', 643: 'r', 644: 'i', 645: 't', 646: 't', 647: 'e', 648: 'n', 649: 'c', 650: 'r', 651: 'e', 652: 'a', 653: 't', 654: 'o', 655: 'r', 656: 'n', 657: 'l', 658: 't', 659: 'k', 660: ',', 661: 'g', 662: 'u', 663: 'i', 664: 'd', 665: 'r', 666: 'e', 667: 'a', 668: 'd', 669: 'e', 670: 'r', 671: 'f', 672: 'u', 673: 'n', 674: 'd', 675: 'a', 676: 'm', 677: 'e', 678: 'n', 679: 't', 680: 'w', 681: 'r', 682: 'i', 683: 't', 684: 'e', 685: 'p', 686: 'y', 687: 't', 688: 'h', 689: 'o', 690: 'n', 691: 'p', 692: 'r', 693: 'o', 694: 'g', 695: 'r', 696: 'a', 697: 'm', 698: ',', 699: 'w', 700: 'o', 701: 'r', 702: 'k', 703: 'c', 704: 'o', 705: 'r', 706: 'p', 707: 'o', 708: 'r', 709: 'a', 710: ',', 711: 'c', 712: 'a', 713: 't', 714: 'e', 715: 'g', 716: 'o', 717: 'r', 718: 't', 719: 'e', 720: 'x', 721: 't', 722: ',', 723: 'a', 724: 'n', 725: 'a', 726: 'l', 727: 'y', 728: 'z', 729: 'l', 730: 'i', 731: 'n', 732: 'g', 733: 'u', 734: 'i', 735: 's', 736: 't', 737: 's', 738: 't', 739: 'r', 740: 'u', 741: 'c', 742: 't', 743: 'u', 744: 'r', 745: ',', 746: '.', 747: 'o', 748: 'n', 749: 'l', 750: 'i', 751: 'n', 752: 'v', 753: 'e', 754: 'r', 755: 's', 756: 'i', 757: 'o', 758: 'n', 759: 'b', 760: 'o', 761: 'o', 762: 'k', 763: 'u', 764: 'p', 765: 'd', 766: 'a', 767: 't', 768: 'p', 769: 'y', 770: 't', 771: 'h', 772: 'o', 773: 'n', 774: '3', 775: 'n', 776: 'l', 777: 't', 778: 'k', 779: '3', 780: '.', 781: '(', 782: 'o', 783: 'r', 784: 'i', 785: 'g', 786: 'i', 787: 'n', 788: 'p', 789: 'y', 790: 't', 791: 'h', 792: 'o', 793: 'n', 794: '2', 795: 'v', 796: 'e', 797: 'r', 798: 's', 799: 'i', 800: 'o', 801: 'n', 802: 's', 803: 't', 804: 'i', 805: 'l', 806: 'l', 807: 'a', 808: 'v', 809: 'a', 810: 'i', 811: 'l', 812: 'h', 813: 't', 814: 't', 815: 'p', 816: ':', 817: '/', 818: '/', 819: 'w', 820: 'w', 821: 'w', 822: '.', 823: 'n', 824: 'l', 825: 't', 826: 'k', 827: '.', 828: 'o', 829: 'r', 830: 'g', 831: '/', 832: 'b', 833: 'o', 834: 'o', 835: 'k', 836: '_', 837: '1', 838: '.', 839: ')'}\n",
      "\n"
     ]
    }
   ],
   "source": [
    "with open(\"res/text.txt\", 'r') as file:\n",
    "    text = file.read().replace('\\n', '')\n",
    "result = lemmatize_and_stemming(text)\n",
    "tokenized_text = tokenize(result)\n",
    "print(f\"Токенизация преобразованного текста:\\n {tokenized_text}\\n\")\n",
    "\n",
    "vectorize_text = vectorize(result)\n",
    "print(f\"Векторизация преобразованного текста:\\n {vectorize_text}\\n\")"
   ]
  }
 ],
 "metadata": {
  "kernelspec": {
   "display_name": "Python 3 (ipykernel)",
   "language": "python",
   "name": "python3"
  },
  "language_info": {
   "codemirror_mode": {
    "name": "ipython",
    "version": 3
   },
   "file_extension": ".py",
   "mimetype": "text/x-python",
   "name": "python",
   "nbconvert_exporter": "python",
   "pygments_lexer": "ipython3",
   "version": "3.13.2"
  }
 },
 "nbformat": 4,
 "nbformat_minor": 5
}
