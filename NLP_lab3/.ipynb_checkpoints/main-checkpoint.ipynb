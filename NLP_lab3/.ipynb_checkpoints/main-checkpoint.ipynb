{
 "cells": [
  {
   "cell_type": "code",
   "execution_count": 1,
   "id": "f6fe9135-873f-4632-a86b-f495700d1576",
   "metadata": {},
   "outputs": [],
   "source": [
    "import pandas as pd\n",
    "import numpy as np"
   ]
  },
  {
   "cell_type": "code",
   "execution_count": 2,
   "id": "32e33e80-574d-4852-be62-c8c367dc4386",
   "metadata": {},
   "outputs": [],
   "source": [
    "class neural_network:\n",
    "    def __init__(self, input_size: int, hidden_neurons: int):\n",
    "        self.input_size = input_size\n",
    "        self.hidden_neurons = hidden_neurons\n",
    "        self.weights_input_hidden = np.random.rand(input_size, hidden_neurons)\n",
    "        self.weights_hidden_output = np.random.rand(hidden_neurons)\n",
    "\n",
    "    def activation_func(self, x: np.ndarray) -> np.ndarray:\n",
    "        return 1 / (1 + np.exp(-x))\n",
    "\n",
    "    def forward(self, X: np.ndarray) -> np.ndarray:\n",
    "        hidden_layer = self.activation_func(np.dot(X, self.weights_input_hidden))\n",
    "        output_layer = self.activation_func(np.dot(hidden_layer, self.weights_hidden_output))\n",
    "        return output_layer\n",
    "\n",
    "    def train(self, X: np.ndarray, y: np.ndarray, epochs: int = 1000, lr: float = 0.01):\n",
    "        for _ in range(epochs):\n",
    "            hidden_layer = self.activation_func(np.dot(X, self.weights_input_hidden))\n",
    "            output_layer = self.activation_func(np.dot(hidden_layer, self.weights_hidden_output))\n",
    "            \n",
    "            output_error = y - output_layer\n",
    "            output_delta = output_error * (output_layer * (1 - output_layer))\n",
    "            \n",
    "            hidden_error = np.dot(output_delta, self.weights_hidden_output.T)\n",
    "            hidden_delta = hidden_error * (hidden_layer * (1 - hidden_layer))\n",
    "            \n",
    "            self.weights_hidden_output += lr * np.dot(hidden_layer.T, output_delta)\n",
    "            self.weights_input_hidden += lr * np.dot(X.T, hidden_delta)"
   ]
  },
  {
   "cell_type": "code",
   "execution_count": 3,
   "id": "1b3a5261-f410-43b1-942a-a8d162b32775",
   "metadata": {},
   "outputs": [
    {
     "name": "stdout",
     "output_type": "stream",
     "text": [
      "Predictions: [0.33508624 0.32938578 0.32380239]\n"
     ]
    }
   ],
   "source": [
    "if __name__ == \"__main__\":\n",
    "    data = np.array([[0.1, 0.4], [0.2, 0.5], [0.3, 0.6]])\n",
    "    target = np.array([0.1, 0.2, 0.3])\n",
    "    \n",
    "    nn = neural_network(input_size=2, hidden_neurons=3)\n",
    "    nn.train(data, target)\n",
    "    predictions = nn.forward(data)\n",
    "    print(\"Predictions:\", predictions)"
   ]
  }
 ],
 "metadata": {
  "kernelspec": {
   "display_name": "Python 3 (ipykernel)",
   "language": "python",
   "name": "python3"
  },
  "language_info": {
   "codemirror_mode": {
    "name": "ipython",
    "version": 3
   },
   "file_extension": ".py",
   "mimetype": "text/x-python",
   "name": "python",
   "nbconvert_exporter": "python",
   "pygments_lexer": "ipython3",
   "version": "3.13.2"
  }
 },
 "nbformat": 4,
 "nbformat_minor": 5
}
