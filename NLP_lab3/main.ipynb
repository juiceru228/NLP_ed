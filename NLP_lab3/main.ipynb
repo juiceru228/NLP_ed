{
 "cells": [
  {
   "cell_type": "code",
   "execution_count": 1,
   "id": "f77d1bb3-da05-486e-8eaa-8d7eb6041721",
   "metadata": {},
   "outputs": [],
   "source": [
    "import pandas as pd\n",
    "import numpy as np"
   ]
  },
  {
   "cell_type": "markdown",
   "id": "96a6ef1a-c793-4c88-873e-27253dc7966f",
   "metadata": {},
   "source": [
    "***Простейший случай с 1 нейроном***"
   ]
  },
  {
   "cell_type": "code",
   "execution_count": 3,
   "id": "71843eee-3010-496c-a9a6-13bb30731f5b",
   "metadata": {},
   "outputs": [],
   "source": [
    "def linear_regression(df: pd.DataFrame) -> list[float]:\n",
    "    weights = [0.5] * len(df.columns)\n",
    "    return df.dot(weights).tolist()"
   ]
  },
  {
   "cell_type": "markdown",
   "id": "d945feae-07f2-4273-8342-69674ce952f0",
   "metadata": {},
   "source": [
    "***Сигмоида***"
   ]
  },
  {
   "cell_type": "code",
   "execution_count": 4,
   "id": "677cb1c8-4923-4e55-a1a5-1e338ab005cb",
   "metadata": {},
   "outputs": [],
   "source": [
    "def activation_func(x: list[float]) -> list[float]:\n",
    "    return [1 / (1 + (2.71828 ** -i)) for i in x]"
   ]
  },
  {
   "cell_type": "code",
   "execution_count": 5,
   "id": "ca238cbe-ad5a-4823-838c-4e64c820bad1",
   "metadata": {},
   "outputs": [],
   "source": [
    "def neuron(df: pd.DataFrame):\n",
    "    temp_result = linear_regression(df)\n",
    "    result = activation_func(temp_result)\n",
    "    return result"
   ]
  },
  {
   "cell_type": "code",
   "execution_count": 6,
   "id": "3abd6d28-007e-4ebc-a67a-b24e77bd61af",
   "metadata": {},
   "outputs": [
    {
     "name": "stdout",
     "output_type": "stream",
     "text": [
      "Predictions: [0.5621764594951077, 0.5866175218265427, 0.6106391619810748]\n"
     ]
    }
   ],
   "source": [
    "if __name__ == \"__main__\":\n",
    "    data = pd.DataFrame({\"x1\": [0.1, 0.2, 0.3], \"x2\": [0.4, 0.5, 0.6]})\n",
    "    predictions = neuron(data)\n",
    "    print(\"Predictions:\", predictions)"
   ]
  },
  {
   "cell_type": "code",
   "execution_count": null,
   "id": "20523a11-5cec-4bc2-a8c7-c1295b7ffe04",
   "metadata": {},
   "outputs": [],
   "source": []
  }
 ],
 "metadata": {
  "kernelspec": {
   "display_name": "Python 3 (ipykernel)",
   "language": "python",
   "name": "python3"
  },
  "language_info": {
   "codemirror_mode": {
    "name": "ipython",
    "version": 3
   },
   "file_extension": ".py",
   "mimetype": "text/x-python",
   "name": "python",
   "nbconvert_exporter": "python",
   "pygments_lexer": "ipython3",
   "version": "3.13.2"
  }
 },
 "nbformat": 4,
 "nbformat_minor": 5
}
