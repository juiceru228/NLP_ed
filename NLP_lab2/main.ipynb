{
 "cells": [
  {
   "cell_type": "code",
   "execution_count": 1,
   "id": "990d78bf-a7d6-49a9-8cef-78d5d7773cdb",
   "metadata": {},
   "outputs": [
    {
     "name": "stderr",
     "output_type": "stream",
     "text": [
      "[nltk_data] Downloading package stopwords to\n",
      "[nltk_data]     /home/ayanami/nltk_data...\n",
      "[nltk_data]   Package stopwords is already up-to-date!\n",
      "[nltk_data] Downloading package wordnet to /home/ayanami/nltk_data...\n",
      "[nltk_data]   Package wordnet is already up-to-date!\n",
      "[nltk_data] Downloading package punkt to /home/ayanami/nltk_data...\n",
      "[nltk_data]   Package punkt is already up-to-date!\n"
     ]
    },
    {
     "data": {
      "text/plain": [
       "True"
      ]
     },
     "execution_count": 1,
     "metadata": {},
     "output_type": "execute_result"
    }
   ],
   "source": [
    "import nltk\n",
    "import numpy as np\n",
    "import re\n",
    "from math import log\n",
    "import pymorphy3\n",
    "from nltk.tokenize import word_tokenize as wt\n",
    "from nltk.corpus import stopwords\n",
    "from sklearn.feature_extraction.text import CountVectorizer, TfidfVectorizer\n",
    "nltk.download('stopwords')\n",
    "nltk.download('wordnet')\n",
    "nltk.download(\"punkt\")"
   ]
  },
  {
   "cell_type": "markdown",
   "id": "51f292f9-7097-465c-86b1-d663f626ff0a",
   "metadata": {},
   "source": [
    "***Лемматизация, удаление стоп слов и токенизация по словам***"
   ]
  },
  {
   "cell_type": "code",
   "execution_count": 2,
   "id": "86fb0836-7d36-4863-ba95-304ce685e596",
   "metadata": {},
   "outputs": [],
   "source": [
    "def preprocessing(text: list[str]) -> list[list[str]]:\n",
    "    processed_texts = []\n",
    "    stop_words = set(stopwords.words('russian'))\n",
    "    morph = pymorphy3.MorphAnalyzer()\n",
    "    for text in text:\n",
    "        tokens = wt(text)\n",
    "        filtered_tokens = [word for word in tokens if word.lower() not in stop_words]\n",
    "        lem_text = [morph.parse(token)[0].normal_form for token in filtered_tokens]\n",
    "        print(f\"Лематизация текста:\\n {lem_text}\\n\")\n",
    "        processed_texts.append(lem_text)\n",
    "    return processed_texts"
   ]
  },
  {
   "cell_type": "markdown",
   "id": "3814645d-b33f-4565-b67b-fbd4e0c5beb2",
   "metadata": {},
   "source": [
    "***Словарь слов***"
   ]
  },
  {
   "cell_type": "code",
   "execution_count": 3,
   "id": "ef5ca0df-063e-45ca-9e3a-cd2f27a36bcd",
   "metadata": {},
   "outputs": [],
   "source": [
    "def make_dict(texts: list[list[str]]) -> dict[str, int]:\n",
    "    unique_words = sorted(set(word for text in texts for word in text))\n",
    "    return {word: i for i, word in enumerate(unique_words)}"
   ]
  },
  {
   "cell_type": "markdown",
   "id": "fdedb61f-fd03-4aa5-ae11-096a06963b3b",
   "metadata": {},
   "source": [
    "***Bag of Words***"
   ]
  },
  {
   "cell_type": "code",
   "execution_count": 4,
   "id": "2279a3d7-b87c-4801-9ff0-60fc9131a1f7",
   "metadata": {},
   "outputs": [],
   "source": [
    "def count_num_words(texts: list[list[str]], word_dict: dict[str, int]) -> np.array:\n",
    "    bow_array = np.zeros((len(texts), len(word_dict)))\n",
    "    for i, text in enumerate(texts):\n",
    "        for word in text:\n",
    "            if word in word_dict:\n",
    "                bow_array[i][word_dict[word]] += 1\n",
    "    return bow_array"
   ]
  },
  {
   "cell_type": "markdown",
   "id": "ad2f008b-96ad-4586-b4d3-2c07f2ebc8c6",
   "metadata": {},
   "source": [
    "***TF-IDF***"
   ]
  },
  {
   "cell_type": "code",
   "execution_count": 11,
   "id": "3747caba-d2dc-48a7-9fd9-ac111a9ca2d0",
   "metadata": {},
   "outputs": [],
   "source": [
    "def count_tfidf(texts: np.array, word_dict: dict[str, int]) -> list[list[str]]:\n",
    "    row, col = bow_array.shape\n",
    "    tfidf_array = np.zeros((row, col))\n",
    "    idf = np.zeros(col)\n",
    "    for j in range(col):\n",
    "        doc_count = sum(1 for i in range(row) if bow_array[i][j] > 0)\n",
    "        idf[j] = log((row / (doc_count + 1))) \n",
    "    for i in range(row):\n",
    "        total_words = sum(bow_array[i])\n",
    "        for j in range(col):\n",
    "            tf = bow_array[i][j] / total_words if total_words > 0 else 0\n",
    "            tfidf_array[i][j] = tf * idf[j]\n",
    "\n",
    "    return tfidf_array"
   ]
  },
  {
   "cell_type": "code",
   "execution_count": 12,
   "id": "baede161-5351-4023-95f3-99c6161505b7",
   "metadata": {},
   "outputs": [
    {
     "name": "stdout",
     "output_type": "stream",
     "text": [
      "['Мама мыла раму а потом пошла гулять в парк', 'Папа чинил машину а мама готовила ужин', 'Дети играли в парке а родители отдыхали']\n",
      "Лематизация текста:\n",
      " ['мама', 'мыло', 'рама', 'пойти', 'гулять', 'парк']\n",
      "\n",
      "Лематизация текста:\n",
      " ['папа', 'чинить', 'машина', 'мама', 'готовить', 'ужин']\n",
      "\n",
      "Лематизация текста:\n",
      " ['ребёнок', 'играть', 'парка', 'родитель', 'отдыхать']\n",
      "\n"
     ]
    }
   ],
   "source": [
    "with open(\"res/text.txt\", 'r') as file:\n",
    "    text = [re.sub(r'[^\\w\\s]','',line).strip() for line in file]\n",
    "print(text)\n",
    "res = preprocessing(text)"
   ]
  },
  {
   "cell_type": "code",
   "execution_count": 13,
   "id": "a2fc8551-5a8f-433d-9490-5e54385be324",
   "metadata": {},
   "outputs": [
    {
     "name": "stdout",
     "output_type": "stream",
     "text": [
      "Словарь слов:\n",
      "{'готовить': 0, 'гулять': 1, 'играть': 2, 'мама': 3, 'машина': 4, 'мыло': 5, 'отдыхать': 6, 'папа': 7, 'парк': 8, 'парка': 9, 'пойти': 10, 'рама': 11, 'ребёнок': 12, 'родитель': 13, 'ужин': 14, 'чинить': 15}\n",
      "Bag of Words:\n",
      "[[0. 1. 0. 1. 0. 1. 0. 0. 1. 0. 1. 1. 0. 0. 0. 0.]\n",
      " [1. 0. 0. 1. 1. 0. 0. 1. 0. 0. 0. 0. 0. 0. 1. 1.]\n",
      " [0. 0. 1. 0. 0. 0. 1. 0. 0. 1. 0. 0. 1. 1. 0. 0.]]\n"
     ]
    },
    {
     "ename": "NameError",
     "evalue": "name 'num_docs' is not defined",
     "output_type": "error",
     "traceback": [
      "\u001b[0;31m---------------------------------------------------------------------------\u001b[0m",
      "\u001b[0;31mNameError\u001b[0m                                 Traceback (most recent call last)",
      "Cell \u001b[0;32mIn[13], line 7\u001b[0m\n\u001b[1;32m      4\u001b[0m bow_array \u001b[38;5;241m=\u001b[39m count_num_words(res, word_dict)\n\u001b[1;32m      5\u001b[0m \u001b[38;5;28mprint\u001b[39m(\u001b[38;5;124mf\u001b[39m\u001b[38;5;124m\"\u001b[39m\u001b[38;5;124mBag of Words:\u001b[39m\u001b[38;5;130;01m\\n\u001b[39;00m\u001b[38;5;132;01m{\u001b[39;00mbow_array\u001b[38;5;132;01m}\u001b[39;00m\u001b[38;5;124m\"\u001b[39m)\n\u001b[0;32m----> 7\u001b[0m tfidf_array \u001b[38;5;241m=\u001b[39m \u001b[43mcount_tfidf\u001b[49m\u001b[43m(\u001b[49m\u001b[43mbow_array\u001b[49m\u001b[43m,\u001b[49m\u001b[43m \u001b[49m\u001b[43mword_dict\u001b[49m\u001b[43m)\u001b[49m\n\u001b[1;32m      8\u001b[0m \u001b[38;5;28mprint\u001b[39m(\u001b[38;5;124mf\u001b[39m\u001b[38;5;124m\"\u001b[39m\u001b[38;5;124mTF-IDF:\u001b[39m\u001b[38;5;130;01m\\n\u001b[39;00m\u001b[38;5;132;01m{\u001b[39;00mtfidf_array\u001b[38;5;132;01m}\u001b[39;00m\u001b[38;5;124m\"\u001b[39m)\n",
      "Cell \u001b[0;32mIn[11], line 6\u001b[0m, in \u001b[0;36mcount_tfidf\u001b[0;34m(texts, word_dict)\u001b[0m\n\u001b[1;32m      4\u001b[0m idf \u001b[38;5;241m=\u001b[39m np\u001b[38;5;241m.\u001b[39mzeros(col)\n\u001b[1;32m      5\u001b[0m \u001b[38;5;28;01mfor\u001b[39;00m j \u001b[38;5;129;01min\u001b[39;00m \u001b[38;5;28mrange\u001b[39m(col):\n\u001b[0;32m----> 6\u001b[0m     doc_count \u001b[38;5;241m=\u001b[39m \u001b[38;5;28msum\u001b[39m(\u001b[38;5;241m1\u001b[39m \u001b[38;5;28;01mfor\u001b[39;00m i \u001b[38;5;129;01min\u001b[39;00m \u001b[38;5;28mrange\u001b[39m(\u001b[43mnum_docs\u001b[49m) \u001b[38;5;28;01mif\u001b[39;00m bow_array[i][j] \u001b[38;5;241m>\u001b[39m \u001b[38;5;241m0\u001b[39m)\n\u001b[1;32m      7\u001b[0m     idf[j] \u001b[38;5;241m=\u001b[39m log((row \u001b[38;5;241m/\u001b[39m (doc_count \u001b[38;5;241m+\u001b[39m \u001b[38;5;241m1\u001b[39m))) \n\u001b[1;32m      8\u001b[0m \u001b[38;5;28;01mfor\u001b[39;00m i \u001b[38;5;129;01min\u001b[39;00m \u001b[38;5;28mrange\u001b[39m(row):\n",
      "\u001b[0;31mNameError\u001b[0m: name 'num_docs' is not defined"
     ]
    }
   ],
   "source": [
    "word_dict = make_dict(res)\n",
    "print(f\"Словарь слов:\\n{word_dict}\")\n",
    "\n",
    "bow_array = count_num_words(res, word_dict)\n",
    "print(f\"Bag of Words:\\n{bow_array}\")\n",
    "\n",
    "tfidf_array = count_tfidf(bow_array, word_dict)\n",
    "print(f\"TF-IDF:\\n{tfidf_array}\")"
   ]
  },
  {
   "cell_type": "code",
   "execution_count": null,
   "id": "4ff62b24-fe6f-4162-927c-3276f15fd618",
   "metadata": {},
   "outputs": [],
   "source": []
  },
  {
   "cell_type": "code",
   "execution_count": null,
   "id": "e50eb3db-8c00-4328-80ba-e6e6ed1ccfe5",
   "metadata": {},
   "outputs": [],
   "source": []
  },
  {
   "cell_type": "code",
   "execution_count": null,
   "id": "b8dbf58a-5118-411b-b8cf-b8b191692d3e",
   "metadata": {},
   "outputs": [],
   "source": []
  }
 ],
 "metadata": {
  "kernelspec": {
   "display_name": "Python 3 (ipykernel)",
   "language": "python",
   "name": "python3"
  },
  "language_info": {
   "codemirror_mode": {
    "name": "ipython",
    "version": 3
   },
   "file_extension": ".py",
   "mimetype": "text/x-python",
   "name": "python",
   "nbconvert_exporter": "python",
   "pygments_lexer": "ipython3",
   "version": "3.13.2"
  }
 },
 "nbformat": 4,
 "nbformat_minor": 5
}
