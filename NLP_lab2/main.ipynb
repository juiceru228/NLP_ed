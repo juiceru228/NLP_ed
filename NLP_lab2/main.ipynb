{
 "cells": [
  {
   "cell_type": "code",
   "execution_count": 1,
   "id": "990d78bf-a7d6-49a9-8cef-78d5d7773cdb",
   "metadata": {},
   "outputs": [
    {
     "name": "stderr",
     "output_type": "stream",
     "text": [
      "[nltk_data] Downloading package stopwords to\n",
      "[nltk_data]     /home/ayanami/nltk_data...\n",
      "[nltk_data]   Package stopwords is already up-to-date!\n",
      "[nltk_data] Downloading package wordnet to /home/ayanami/nltk_data...\n",
      "[nltk_data]   Package wordnet is already up-to-date!\n",
      "[nltk_data] Downloading package punkt to /home/ayanami/nltk_data...\n",
      "[nltk_data]   Package punkt is already up-to-date!\n"
     ]
    },
    {
     "data": {
      "text/plain": [
       "True"
      ]
     },
     "execution_count": 1,
     "metadata": {},
     "output_type": "execute_result"
    }
   ],
   "source": [
    "import nltk\n",
    "import numpy as np\n",
    "import re\n",
    "from math import log\n",
    "import pymorphy3\n",
    "from nltk.tokenize import word_tokenize as wt\n",
    "from nltk.corpus import stopwords\n",
    "from sklearn.feature_extraction.text import CountVectorizer, TfidfVectorizer\n",
    "nltk.download('stopwords')\n",
    "nltk.download('wordnet')\n",
    "nltk.download(\"punkt\")"
   ]
  },
  {
   "cell_type": "markdown",
   "id": "51f292f9-7097-465c-86b1-d663f626ff0a",
   "metadata": {},
   "source": [
    "***Лемматизация, удаление стоп слов и токенизация по словам***"
   ]
  },
  {
   "cell_type": "code",
   "execution_count": 2,
   "id": "86fb0836-7d36-4863-ba95-304ce685e596",
   "metadata": {},
   "outputs": [],
   "source": [
    "def preprocessing(text: list[str]) -> list[list[str]]:\n",
    "    processed_texts = []\n",
    "    stop_words = set(stopwords.words('russian'))\n",
    "    morph = pymorphy3.MorphAnalyzer()\n",
    "    for text in text:\n",
    "        tokens = wt(text)\n",
    "        filtered_tokens = [word for word in tokens if word.lower() not in stop_words]\n",
    "        lem_text = [morph.parse(token)[0].normal_form for token in filtered_tokens]\n",
    "        print(f\"Лематизация текста:\\n {lem_text}\\n\")\n",
    "        processed_texts.append(lem_text)\n",
    "    return processed_texts"
   ]
  },
  {
   "cell_type": "markdown",
   "id": "3814645d-b33f-4565-b67b-fbd4e0c5beb2",
   "metadata": {},
   "source": [
    "***Словарь слов***"
   ]
  },
  {
   "cell_type": "code",
   "execution_count": 3,
   "id": "ef5ca0df-063e-45ca-9e3a-cd2f27a36bcd",
   "metadata": {},
   "outputs": [],
   "source": [
    "def make_dict(texts: list[list[str]]) -> dict[str, int]:\n",
    "    unique_words = sorted(set(word for text in texts for word in text))\n",
    "    return {word: i for i, word in enumerate(unique_words)}"
   ]
  },
  {
   "cell_type": "markdown",
   "id": "fdedb61f-fd03-4aa5-ae11-096a06963b3b",
   "metadata": {},
   "source": [
    "***Bag of Words***"
   ]
  },
  {
   "cell_type": "code",
   "execution_count": 4,
   "id": "2279a3d7-b87c-4801-9ff0-60fc9131a1f7",
   "metadata": {},
   "outputs": [],
   "source": [
    "def count_num_words(texts: list[list[str]], word_dict: dict[str, int]) -> np.array:\n",
    "    bow_array = np.zeros((len(texts), len(word_dict)))\n",
    "    for i, text in enumerate(texts):\n",
    "        for word in text:\n",
    "            if word in word_dict:\n",
    "                bow_array[i][word_dict[word]] += 1\n",
    "    return bow_array"
   ]
  },
  {
   "cell_type": "markdown",
   "id": "ad2f008b-96ad-4586-b4d3-2c07f2ebc8c6",
   "metadata": {},
   "source": [
    "***TF-IDF***"
   ]
  },
  {
   "cell_type": "code",
   "execution_count": 5,
   "id": "3747caba-d2dc-48a7-9fd9-ac111a9ca2d0",
   "metadata": {},
   "outputs": [],
   "source": [
    "def count_tfidf(texts: np.array, word_dict: dict[str, int]) -> list[list[str]]:\n",
    "    row, col = bow_array.shape\n",
    "    tfidf_array = np.zeros((row, col))\n",
    "    idf = np.zeros(col)\n",
    "    for j in range(col):\n",
    "        doc_count = 0\n",
    "        for i in range(row):\n",
    "            if bow_array[i][j] > 0:\n",
    "                doc_count += 1\n",
    "        idf[j] = log((row / (doc_count + 1)))\n",
    "    for i in range(row):\n",
    "        total_words = sum(bow_array[i])\n",
    "        for j in range(col):\n",
    "            tf = bow_array[i][j] / total_words if total_words > 0 else 0\n",
    "            tfidf_array[i][j] = tf * idf[j]\n",
    "\n",
    "    return tfidf_array"
   ]
  },
  {
   "cell_type": "code",
   "execution_count": 6,
   "id": "baede161-5351-4023-95f3-99c6161505b7",
   "metadata": {},
   "outputs": [
    {
     "name": "stdout",
     "output_type": "stream",
     "text": [
      "['У лукоморья дуб зелёный', 'Златая цепь на дубе том', 'И днём и ночью кот учёный', 'Всё ходит по цепи кругом', 'Идёт направо  песнь заводит', 'Налево  сказку говорит']\n",
      "Лематизация текста:\n",
      " ['лукоморье', 'дуб', 'зелёный']\n",
      "\n",
      "Лематизация текста:\n",
      " ['златой', 'цепь', 'дуб']\n",
      "\n",
      "Лематизация текста:\n",
      " ['день', 'ночью', 'кот', 'учёный']\n",
      "\n",
      "Лематизация текста:\n",
      " ['всё', 'ходить', 'цепь', 'кругом']\n",
      "\n",
      "Лематизация текста:\n",
      " ['идти', 'направо', 'песня', 'заводить']\n",
      "\n",
      "Лематизация текста:\n",
      " ['налево', 'сказка', 'говорить']\n",
      "\n"
     ]
    }
   ],
   "source": [
    "with open(\"res/text.txt\", 'r') as file:\n",
    "    text = [re.sub(r'[^\\w\\s]','',line).strip() for line in file]\n",
    "print(text)\n",
    "res = preprocessing(text)"
   ]
  },
  {
   "cell_type": "code",
   "execution_count": 7,
   "id": "a2fc8551-5a8f-433d-9490-5e54385be324",
   "metadata": {},
   "outputs": [
    {
     "name": "stdout",
     "output_type": "stream",
     "text": [
      "Словарь слов:\n",
      "{'всё': 0, 'говорить': 1, 'день': 2, 'дуб': 3, 'заводить': 4, 'зелёный': 5, 'златой': 6, 'идти': 7, 'кот': 8, 'кругом': 9, 'лукоморье': 10, 'налево': 11, 'направо': 12, 'ночью': 13, 'песня': 14, 'сказка': 15, 'учёный': 16, 'ходить': 17, 'цепь': 18}\n",
      "Bag of Words:\n",
      "[[0. 0. 0. 1. 0. 1. 0. 0. 0. 0. 1. 0. 0. 0. 0. 0. 0. 0. 0.]\n",
      " [0. 0. 0. 1. 0. 0. 1. 0. 0. 0. 0. 0. 0. 0. 0. 0. 0. 0. 1.]\n",
      " [0. 0. 1. 0. 0. 0. 0. 0. 1. 0. 0. 0. 0. 1. 0. 0. 1. 0. 0.]\n",
      " [1. 0. 0. 0. 0. 0. 0. 0. 0. 1. 0. 0. 0. 0. 0. 0. 0. 1. 1.]\n",
      " [0. 0. 0. 0. 1. 0. 0. 1. 0. 0. 0. 0. 1. 0. 1. 0. 0. 0. 0.]\n",
      " [0. 1. 0. 0. 0. 0. 0. 0. 0. 0. 0. 1. 0. 0. 0. 1. 0. 0. 0.]]\n",
      "TF-IDF:\n",
      "[[0.         0.         0.         0.23104906 0.         0.3662041\n",
      "  0.         0.         0.         0.         0.3662041  0.\n",
      "  0.         0.         0.         0.         0.         0.\n",
      "  0.        ]\n",
      " [0.         0.         0.         0.23104906 0.         0.\n",
      "  0.3662041  0.         0.         0.         0.         0.\n",
      "  0.         0.         0.         0.         0.         0.\n",
      "  0.23104906]\n",
      " [0.         0.         0.27465307 0.         0.         0.\n",
      "  0.         0.         0.27465307 0.         0.         0.\n",
      "  0.         0.27465307 0.         0.         0.27465307 0.\n",
      "  0.        ]\n",
      " [0.27465307 0.         0.         0.         0.         0.\n",
      "  0.         0.         0.         0.27465307 0.         0.\n",
      "  0.         0.         0.         0.         0.         0.27465307\n",
      "  0.1732868 ]\n",
      " [0.         0.         0.         0.         0.27465307 0.\n",
      "  0.         0.27465307 0.         0.         0.         0.\n",
      "  0.27465307 0.         0.27465307 0.         0.         0.\n",
      "  0.        ]\n",
      " [0.         0.3662041  0.         0.         0.         0.\n",
      "  0.         0.         0.         0.         0.         0.3662041\n",
      "  0.         0.         0.         0.3662041  0.         0.\n",
      "  0.        ]]\n"
     ]
    }
   ],
   "source": [
    "word_dict = make_dict(res)\n",
    "print(f\"Словарь слов:\\n{word_dict}\")\n",
    "\n",
    "bow_array = count_num_words(res, word_dict)\n",
    "print(f\"Bag of Words:\\n{bow_array}\")\n",
    "\n",
    "tfidf_array = count_tfidf(bow_array, word_dict)\n",
    "print(f\"TF-IDF:\\n{tfidf_array}\")"
   ]
  }
 ],
 "metadata": {
  "kernelspec": {
   "display_name": "Python 3 (ipykernel)",
   "language": "python",
   "name": "python3"
  },
  "language_info": {
   "codemirror_mode": {
    "name": "ipython",
    "version": 3
   },
   "file_extension": ".py",
   "mimetype": "text/x-python",
   "name": "python",
   "nbconvert_exporter": "python",
   "pygments_lexer": "ipython3",
   "version": "3.13.2"
  }
 },
 "nbformat": 4,
 "nbformat_minor": 5
}
